{
 "cells": [
  {
   "cell_type": "code",
   "execution_count": null,
   "metadata": {},
   "outputs": [],
   "source": [
    "import re\n",
    "\n",
    "def reverseWords(Sentence):\n",
    "    \n",
    "    words = Sentence.split()\n",
    "    reverseWords = [word[::-1] for word in words]\n",
    "    \n",
    "    reverseSentence = \"\".join(reversed(words))\n",
    "    return(reverseSentence)\n",
    "\n",
    "def palindrome(Sentence):\n",
    "    rev = reverseWords(Sentence)\n",
    "    Sentence = re.sub(r'[^A-Za-z]', '', Sentence.lower())\n",
    "    if (Sentence == rev):\n",
    "        return True\n",
    "    return False\n",
    "\n",
    "Sentence = input('Enter your input: ')\n",
    "response = palindrome(Sentence)\n",
    "\n",
    "if response == True:\n",
    "    print('It is Palindrome')\n",
    "else:\n",
    "    print('It is not Palindrome')"
   ]
  }
 ],
 "metadata": {
  "kernelspec": {
   "display_name": "Python 3",
   "language": "python",
   "name": "python3"
  },
  "language_info": {
   "codemirror_mode": {
    "name": "ipython",
    "version": 3
   },
   "file_extension": ".py",
   "mimetype": "text/x-python",
   "name": "python",
   "nbconvert_exporter": "python",
   "pygments_lexer": "ipython3",
   "version": "3.7.6"
  }
 },
 "nbformat": 4,
 "nbformat_minor": 4
}
