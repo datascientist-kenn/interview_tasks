{
 "cells": [
  {
   "cell_type": "code",
   "execution_count": 6,
   "metadata": {},
   "outputs": [
    {
     "name": "stdout",
     "output_type": "stream",
     "text": [
      "Welcome to the birthday dictionary.\n",
      "We know the birthdays of:\n",
      "Albert Einstein\n",
      "Bill Gates\n",
      "Steve Jobs\n",
      "Ada Lovelace\n"
     ]
    },
    {
     "name": "stdin",
     "output_type": "stream",
     "text": [
      "Who's birthday do you want to look up? Ada Lovelace\n"
     ]
    },
    {
     "name": "stdout",
     "output_type": "stream",
     "text": [
      "Ada Lovelace's birthday is 10/12/1815\n"
     ]
    }
   ],
   "source": [
    "def show_dict(dict):\n",
    "    \"\"\"\n",
    "    Print all the key in dict.\n",
    "    \n",
    "    Arguments:\n",
    "    dict -- a dictionary needed to be print it's key.\n",
    "    \n",
    "    \"\"\"\n",
    "    print('We know the birthdays of:')\n",
    "    for key in dict:\n",
    "        print(key)\n",
    "\n",
    "# Useless\n",
    "def search(name, dict):\n",
    "    \"\"\"\n",
    "    Search the person's birthday is in the dict or not.\n",
    "    \n",
    "    Arguments:\n",
    "    query -- the name of person the user want to know.\n",
    "    dict -- a dictionary needed to be print it's key.\n",
    "    \n",
    "    Returns:\n",
    "    birthday -- the birthday of the query.\n",
    "    \"\"\"\n",
    "    return dict[name] if name in dict else None\n",
    "\n",
    "def main():\n",
    "    Birthdays ={\"Albert Einstein\": \"14/3/1889\",\n",
    "                \"Bill Gates\": \"28/10/1955\",\n",
    "                \"Steve Jobs\": \"24/2/1955\",\n",
    "                \"Ada Lovelace\": \"10/12/1815\"}\n",
    "    print('Welcome to the birthday dictionary.')\n",
    "    show_dict(Birthdays)\n",
    "    name = input(\"Who's birthday do you want to look up?\")\n",
    "    result = Birthdays[name] if name in Birthdays else None\n",
    "    if result == None:\n",
    "        print('No Data')\n",
    "        print('I do not have the birthday information of ' + name)\n",
    "        \n",
    "        print('Birthday database needs to be updated')\n",
    "    else:\n",
    "        print(\"{}'s birthday is {}\".format(name, Birthdays[name]))\n",
    "        \n",
    "        \n",
    "if __name__ == \"__main__\":\n",
    "    main()"
   ]
  }
 ],
 "metadata": {
  "kernelspec": {
   "display_name": "Python 3",
   "language": "python",
   "name": "python3"
  },
  "language_info": {
   "codemirror_mode": {
    "name": "ipython",
    "version": 3
   },
   "file_extension": ".py",
   "mimetype": "text/x-python",
   "name": "python",
   "nbconvert_exporter": "python",
   "pygments_lexer": "ipython3",
   "version": "3.7.6"
  }
 },
 "nbformat": 4,
 "nbformat_minor": 4
}
