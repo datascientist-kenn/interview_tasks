{
 "cells": [
  {
   "cell_type": "code",
   "execution_count": 3,
   "metadata": {},
   "outputs": [
    {
     "name": "stdin",
     "output_type": "stream",
     "text": [
      "Enter your Sentence:  Kenneth is the Boss\n"
     ]
    },
    {
     "name": "stdout",
     "output_type": "stream",
     "text": [
      "BosstheisKenneth\n"
     ]
    }
   ],
   "source": [
    "import re\n",
    "\n",
    "def reverseWords(Sentence):\n",
    "    \n",
    "    words = Sentence.split(\" \")\n",
    "    Sentence = re.sub(r'[^A-Za-z]', '', Sentence.lower())\n",
    "    reverseWords = [word[::-1] for word in words]\n",
    "    \n",
    "    reverseSentence = \"\".join(reversed(words))\n",
    "    return(reverseSentence)\n",
    "\n",
    "if __name__ == \"__main__\":\n",
    "    Sentence = input('Enter your Sentence: ')\n",
    "    print (reverseWords(Sentence))"
   ]
  }
 ],
 "metadata": {
  "kernelspec": {
   "display_name": "Python 3",
   "language": "python",
   "name": "python3"
  },
  "language_info": {
   "codemirror_mode": {
    "name": "ipython",
    "version": 3
   },
   "file_extension": ".py",
   "mimetype": "text/x-python",
   "name": "python",
   "nbconvert_exporter": "python",
   "pygments_lexer": "ipython3",
   "version": "3.7.6"
  }
 },
 "nbformat": 4,
 "nbformat_minor": 4
}
